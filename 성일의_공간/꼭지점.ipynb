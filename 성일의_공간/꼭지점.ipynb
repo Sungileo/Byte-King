{
 "cells": [
  {
   "cell_type": "markdown",
   "metadata": {},
   "source": [
    "### 꼭지점 추출 "
   ]
  },
  {
   "cell_type": "code",
   "execution_count": 1,
   "metadata": {},
   "outputs": [
    {
     "name": "stderr",
     "output_type": "stream",
     "text": [
      "[ WARN:0@0.241] global loadsave.cpp:241 findDecoder imread_('image.png'): can't open/read file: check file path/integrity\n"
     ]
    },
    {
     "ename": "ValueError",
     "evalue": "max() arg is an empty sequence",
     "output_type": "error",
     "traceback": [
      "\u001b[0;31m---------------------------------------------------------------------------\u001b[0m",
      "\u001b[0;31mValueError\u001b[0m                                Traceback (most recent call last)",
      "Cell \u001b[0;32mIn[1], line 40\u001b[0m\n\u001b[1;32m     37\u001b[0m image_path \u001b[38;5;241m=\u001b[39m \u001b[38;5;124m'\u001b[39m\u001b[38;5;124mimage.png\u001b[39m\u001b[38;5;124m'\u001b[39m\n\u001b[1;32m     39\u001b[0m \u001b[38;5;66;03m# 꼭짓점 추출\u001b[39;00m\n\u001b[0;32m---> 40\u001b[0m corners, relative_corners \u001b[38;5;241m=\u001b[39m \u001b[43mextract_heart_corners\u001b[49m\u001b[43m(\u001b[49m\u001b[43mimage_path\u001b[49m\u001b[43m)\u001b[49m\n\u001b[1;32m     42\u001b[0m \u001b[38;5;66;03m# 결과 출력 (여기서 relative_corners를 사용할 것)\u001b[39;00m\n\u001b[1;32m     43\u001b[0m \u001b[38;5;28mprint\u001b[39m(\u001b[38;5;124m\"\u001b[39m\u001b[38;5;124m상대 좌표:\u001b[39m\u001b[38;5;124m\"\u001b[39m, relative_corners)\n",
      "Cell \u001b[0;32mIn[1], line 19\u001b[0m, in \u001b[0;36mextract_heart_corners\u001b[0;34m(image_path)\u001b[0m\n\u001b[1;32m     16\u001b[0m contours, _ \u001b[38;5;241m=\u001b[39m cv2\u001b[38;5;241m.\u001b[39mfindContours(edges, cv2\u001b[38;5;241m.\u001b[39mRETR_EXTERNAL, cv2\u001b[38;5;241m.\u001b[39mCHAIN_APPROX_SIMPLE)\n\u001b[1;32m     18\u001b[0m \u001b[38;5;66;03m# 5. 가장 큰 윤곽선을 선택\u001b[39;00m\n\u001b[0;32m---> 19\u001b[0m max_contour \u001b[38;5;241m=\u001b[39m \u001b[38;5;28;43mmax\u001b[39;49m\u001b[43m(\u001b[49m\u001b[43mcontours\u001b[49m\u001b[43m,\u001b[49m\u001b[43m \u001b[49m\u001b[43mkey\u001b[49m\u001b[38;5;241;43m=\u001b[39;49m\u001b[43mcv2\u001b[49m\u001b[38;5;241;43m.\u001b[39;49m\u001b[43mcontourArea\u001b[49m\u001b[43m)\u001b[49m\n\u001b[1;32m     21\u001b[0m \u001b[38;5;66;03m# 6. 윤곽선을 단순화하여 꼭짓점 추출\u001b[39;00m\n\u001b[1;32m     22\u001b[0m epsilon \u001b[38;5;241m=\u001b[39m \u001b[38;5;241m0.01\u001b[39m \u001b[38;5;241m*\u001b[39m cv2\u001b[38;5;241m.\u001b[39marcLength(max_contour, \u001b[38;5;28;01mTrue\u001b[39;00m)\n",
      "\u001b[0;31mValueError\u001b[0m: max() arg is an empty sequence"
     ]
    }
   ],
   "source": [
    "import cv2\n",
    "import numpy as np\n",
    "import matplotlib.pyplot as plt\n",
    "\n",
    "def extract_heart_corners(image_path: str):\n",
    "    # 1. 이미지 불러오기\n",
    "    img = cv2.imread(image_path, cv2.IMREAD_GRAYSCALE)\n",
    "    \n",
    "    # 2. 이미지 이진화 (Threshold 적용)\n",
    "    _, thresh = cv2.threshold(img, 127, 255, cv2.THRESH_BINARY_INV)\n",
    "    \n",
    "    # 3. 외곽선 검출 (Canny 엣지 검출기 사용)\n",
    "    edges = cv2.Canny(thresh, 100, 200)\n",
    "    \n",
    "    # 4. 윤곽선 찾기 (findContours를 사용해 외곽선 점들을 찾음)\n",
    "    contours, _ = cv2.findContours(edges, cv2.RETR_EXTERNAL, cv2.CHAIN_APPROX_SIMPLE)\n",
    "    \n",
    "    # 5. 가장 큰 윤곽선을 선택\n",
    "    max_contour = max(contours, key=cv2.contourArea)\n",
    "    \n",
    "    # 6. 윤곽선을 단순화하여 꼭짓점 추출\n",
    "    epsilon = 0.01 * cv2.arcLength(max_contour, True)\n",
    "    approx = cv2.approxPolyDP(max_contour, epsilon, True)\n",
    "    \n",
    "    # 7. 추출된 꼭짓점 좌표 리스트\n",
    "    corner_points = [tuple(pt[0]) for pt in approx]\n",
    "    \n",
    "    # 8. 꼭짓점 상대 좌표 계산\n",
    "    min_x = min([p[0] for p in corner_points])\n",
    "    min_y = min([p[1] for p in corner_points])\n",
    "    \n",
    "    relative_points = [(x - min_x, y - min_y) for x, y in corner_points]\n",
    "    \n",
    "    return corner_points, relative_points\n",
    "\n",
    "# 이미지 파일 경로 설정 (여기서 하트 이미지를 사용)\n",
    "image_path = 'image.png'\n",
    "\n",
    "# 꼭짓점 추출\n",
    "corners, relative_corners = extract_heart_corners(image_path)\n",
    "\n",
    "# 결과 출력 (여기서 relative_corners를 사용할 것)\n",
    "print(\"상대 좌표:\", relative_corners)\n"
   ]
  },
  {
   "cell_type": "code",
   "execution_count": 2,
   "metadata": {},
   "outputs": [
    {
     "ename": "NameError",
     "evalue": "name 'relative_corners' is not defined",
     "output_type": "error",
     "traceback": [
      "\u001b[0;31m---------------------------------------------------------------------------\u001b[0m",
      "\u001b[0;31mNameError\u001b[0m                                 Traceback (most recent call last)",
      "Cell \u001b[0;32mIn[2], line 31\u001b[0m\n\u001b[1;32m     28\u001b[0m scale_factor \u001b[38;5;241m=\u001b[39m \u001b[38;5;241m0.0001\u001b[39m  \u001b[38;5;66;03m# 이 값을 더 키우면 하트 크기가 커집니다.\u001b[39;00m\n\u001b[1;32m     30\u001b[0m \u001b[38;5;66;03m# 지도 위에 하트 그리기\u001b[39;00m\n\u001b[0;32m---> 31\u001b[0m draw_heart_on_map(center_lat, center_lon, \u001b[43mrelative_corners\u001b[49m, scale_factor)\n",
      "\u001b[0;31mNameError\u001b[0m: name 'relative_corners' is not defined"
     ]
    }
   ],
   "source": [
    "import folium\n",
    "\n",
    "# 하트의 상대 좌표를 입력받아 지도 위에 그리기 (시작 지점으로 돌아가는 기능 포함)\n",
    "def draw_heart_on_map(center_lat, center_lon, relative_corners, scale_factor=0.00005):\n",
    "    # 지도 생성\n",
    "    M = folium.Map(location=[center_lat, center_lon], zoom_start=17)\n",
    "\n",
    "    # 하트 모양의 꼭짓점 계산 (상대 좌표 기반) - 크기를 키우기 위해 scale_factor 사용\n",
    "    heart_coordinates = [(center_lat + rel_lat * scale_factor, center_lon + rel_lon * scale_factor) for rel_lat, rel_lon in relative_corners]\n",
    "\n",
    "    # 시작 지점으로 다시 돌아가도록 좌표를 추가 (닫힌 도형)\n",
    "    heart_coordinates.append(heart_coordinates[0])  # 첫 번째 좌표를 다시 추가\n",
    "\n",
    "    # 하트 모양을 빨간 선으로 연결\n",
    "    folium.PolyLine(locations=heart_coordinates, color='red').add_to(M)\n",
    "\n",
    "    # 지도 저장\n",
    "    M.save(\"heart_on_map_closed.html\")\n",
    "\n",
    "# 임의의 기준 좌표 (예시)\n",
    "center_lat = 37.484208\n",
    "center_lon = 126.929676\n",
    "\n",
    "# 추출한 하트 이미지의 상대 좌표\n",
    "\n",
    "\n",
    "# 하트의 크기를 키우기 위한 scale_factor 설정\n",
    "scale_factor = 0.0001  # 이 값을 더 키우면 하트 크기가 커집니다.\n",
    "\n",
    "# 지도 위에 하트 그리기\n",
    "draw_heart_on_map(center_lat, center_lon, relative_corners, scale_factor)\n"
   ]
  },
  {
   "cell_type": "code",
   "execution_count": null,
   "metadata": {},
   "outputs": [],
   "source": []
  }
 ],
 "metadata": {
  "kernelspec": {
   "display_name": "Python 3",
   "language": "python",
   "name": "python3"
  },
  "language_info": {
   "codemirror_mode": {
    "name": "ipython",
    "version": 3
   },
   "file_extension": ".py",
   "mimetype": "text/x-python",
   "name": "python",
   "nbconvert_exporter": "python",
   "pygments_lexer": "ipython3",
   "version": "3.10.12"
  }
 },
 "nbformat": 4,
 "nbformat_minor": 2
}
